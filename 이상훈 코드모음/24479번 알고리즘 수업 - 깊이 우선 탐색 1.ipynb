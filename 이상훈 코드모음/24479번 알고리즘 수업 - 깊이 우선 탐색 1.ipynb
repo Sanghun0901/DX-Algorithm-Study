{
 "cells": [
  {
   "cell_type": "code",
   "execution_count": 36,
   "metadata": {},
   "outputs": [
    {
     "name": "stdout",
     "output_type": "stream",
     "text": [
      "1\n",
      "2\n",
      "3\n",
      "4\n",
      "0\n"
     ]
    }
   ],
   "source": [
    "import sys\n",
    "sys.setrecursionlimit(10**8)\n",
    "input = sys.stdin.readline\n",
    "peak, road, start = map(int, input().split())\n",
    "total = [[] for _ in range(peak+1)]\n",
    "\n",
    "for _ in range(road):\n",
    "    a, b = map(int, input().split())\n",
    "    total[a].append(b)\n",
    "    total[b].append(a)\n",
    "\n",
    "for i in range(len(total)):\n",
    "    total[i].sort(reverse=True)\n",
    "\n",
    "def progress(start):\n",
    "    visited = []\n",
    "    stack = [start]\n",
    "    while stack :\n",
    "        v = stack.pop()\n",
    "        if v not in visited:\n",
    "            visited.append(v)\n",
    "            for w in total[v]:\n",
    "                stack.append(w)\n",
    "\n",
    "    return visited\n",
    "\n",
    "result = progress(start)\n",
    "if len(result) != peak :\n",
    "    im_p=total[1:].index([])\n",
    "    result.insert(im_p,0)\n",
    "    for i in result :\n",
    "        print(i)"
   ]
  }
 ],
 "metadata": {
  "kernelspec": {
   "display_name": "Python 3",
   "language": "python",
   "name": "python3"
  },
  "language_info": {
   "codemirror_mode": {
    "name": "ipython",
    "version": 3
   },
   "file_extension": ".py",
   "mimetype": "text/x-python",
   "name": "python",
   "nbconvert_exporter": "python",
   "pygments_lexer": "ipython3",
   "version": "3.10.9"
  },
  "orig_nbformat": 4
 },
 "nbformat": 4,
 "nbformat_minor": 2
}
