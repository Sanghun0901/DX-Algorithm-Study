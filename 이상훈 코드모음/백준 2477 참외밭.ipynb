{
 "cells": [
  {
   "cell_type": "code",
   "execution_count": 12,
   "metadata": {},
   "outputs": [
    {
     "name": "stdout",
     "output_type": "stream",
     "text": [
      "6200\n"
     ]
    }
   ],
   "source": [
    "W = []\n",
    "H = []\n",
    "Total = []\n",
    "small =[]\n",
    "num = int(input())\n",
    "\n",
    "for i in range(6) :\n",
    "    a,b = map(int,input().split())\n",
    "    Total.append([a,b])\n",
    "    if a == 1 or a == 2 :\n",
    "        W.append(b)\n",
    "        \n",
    "    if a == 3 or a == 4 :\n",
    "        H.append(b)\n",
    "        \n",
    "        \n",
    "for i in range(6) :\n",
    "    if max(W) == Total[i][1] and max(H) == Total[(i-1)%6][1]:\n",
    "        small.append(Total[(i+2)%6][1])\n",
    "        small.append(Total[(i+3)%6][1])\n",
    "        \n",
    "    elif max(W) == Total[i][1] and max(H) == Total[(i+1)%6][1]:\n",
    "        small.append(Total[(i+4)%6][1])\n",
    "        small.append(Total[(i+3)%6][1])\n",
    "\n",
    "\n",
    "               \n",
    "print((max(W)*max(H) - small[0]*small[1])*num) "
   ]
  }
 ],
 "metadata": {
  "kernelspec": {
   "display_name": "Python 3",
   "language": "python",
   "name": "python3"
  },
  "language_info": {
   "codemirror_mode": {
    "name": "ipython",
    "version": 3
   },
   "file_extension": ".py",
   "mimetype": "text/x-python",
   "name": "python",
   "nbconvert_exporter": "python",
   "pygments_lexer": "ipython3",
   "version": "3.10.9"
  },
  "orig_nbformat": 4
 },
 "nbformat": 4,
 "nbformat_minor": 2
}
