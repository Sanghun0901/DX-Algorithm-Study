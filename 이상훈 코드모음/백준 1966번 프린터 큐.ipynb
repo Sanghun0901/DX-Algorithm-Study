{
 "cells": [
  {
   "cell_type": "code",
   "execution_count": 77,
   "metadata": {},
   "outputs": [
    {
     "name": "stdout",
     "output_type": "stream",
     "text": [
      "1\n",
      "2\n",
      "5\n"
     ]
    }
   ],
   "source": [
    "from collections import deque\n",
    "num = int(input())\n",
    "result = []\n",
    "for _ in range(num) :\n",
    "    rank, target = map(int,input().split())\n",
    "    book = list(map(int,input().split()))\n",
    "    queue = deque([(i,p) for i,p in enumerate(book)])\n",
    "\n",
    "    count = 0\n",
    "    while queue :\n",
    "        v = queue.popleft()\n",
    "        if any(v[1] < i[1] for i in queue) :\n",
    "            queue.append(v)\n",
    "        else :\n",
    "            count += 1\n",
    "            if v[0] == target :\n",
    "                result.append(count)\n",
    "                break\n",
    "\n",
    "for i in result :\n",
    "                    \n",
    "    print(i)"
   ]
  }
 ],
 "metadata": {
  "kernelspec": {
   "display_name": "Python 3",
   "language": "python",
   "name": "python3"
  },
  "language_info": {
   "codemirror_mode": {
    "name": "ipython",
    "version": 3
   },
   "file_extension": ".py",
   "mimetype": "text/x-python",
   "name": "python",
   "nbconvert_exporter": "python",
   "pygments_lexer": "ipython3",
   "version": "3.10.9"
  },
  "orig_nbformat": 4
 },
 "nbformat": 4,
 "nbformat_minor": 2
}
