{
 "cells": [
  {
   "cell_type": "code",
   "execution_count": null,
   "metadata": {},
   "outputs": [],
   "source": [
    "num = int(input())\n",
    "for t in range(1, num+1):\n",
    "    a, b = map(int, input().split())\n",
    "    land = []\n",
    "    for _ in range(a):\n",
    "        land.append(list(map(int, input().split())))\n",
    " \n",
    "    dx = [-1, -1, -1, 0, 0, 1, 1, 1]\n",
    "    dy = [-1, 0, 1, -1, 1, -1, 0, 1]\n",
    "    check = 0\n",
    "    for i in range(a):\n",
    "        for j in range(b):\n",
    "            cnt = 0\n",
    "            test = land[i][j]\n",
    "            for s in range(8):\n",
    "                x = i\n",
    "                y = j\n",
    "                nx = x + dx[s]\n",
    "                ny = y + dy[s]\n",
    "                if nx < 0 or ny < 0 or nx >= a or ny >= b:\n",
    "                    continue\n",
    "                if land[nx][ny] < test:\n",
    "                    cnt += 1\n",
    "            if cnt >= 4:\n",
    "                check += 1\n",
    "    print(f\"#{t} {check}\")"
   ]
  }
 ],
 "metadata": {
  "kernelspec": {
   "display_name": "Python 3",
   "language": "python",
   "name": "python3"
  },
  "language_info": {
   "codemirror_mode": {
    "name": "ipython",
    "version": 3
   },
   "file_extension": ".py",
   "mimetype": "text/x-python",
   "name": "python",
   "nbconvert_exporter": "python",
   "pygments_lexer": "ipython3",
   "version": "3.10.9"
  },
  "orig_nbformat": 4
 },
 "nbformat": 4,
 "nbformat_minor": 2
}
