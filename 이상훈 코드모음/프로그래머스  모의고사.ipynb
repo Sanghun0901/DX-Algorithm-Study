{
 "cells": [
  {
   "cell_type": "code",
   "execution_count": 28,
   "metadata": {},
   "outputs": [],
   "source": [
    "def solution(answers):\n",
    "    count = len(answers)\n",
    "    a = [1,2,3,4,5] * 2000\n",
    "    b = [2,1,2,3,2,4,2,5] * 1250\n",
    "    c = [3,3,1,1,2,2,4,4,5,5] * 1000\n",
    "    result =[]\n",
    "    total = [a,b,c]\n",
    "    return_num = []\n",
    "    for i in total :\n",
    "        cnt = 0\n",
    "        for j in range(count) :\n",
    "            if answers[j] == i[:count][j] :\n",
    "                cnt += 1\n",
    "        result.append(cnt)\n",
    "    if max(result) == 0 :\n",
    "        return_num = []\n",
    "    else: \n",
    "        if result.count(max(result)) == 3 :\n",
    "            return_num = [1,2,3]\n",
    "\n",
    "        if result.count(max(result)) == 2 :\n",
    "            if max(result) == result[-1] and  max(result) == result[-2]:\n",
    "                return_num = [result.index(max(result))+1,result.index(max(result))+2]\n",
    "            elif max(result) == result[-1]:\n",
    "                return_num = [result.index(max(result))+1,result.index(max(result))+3]  \n",
    "            else:\n",
    "                return_num = [result.index(max(result))+1,result.index(max(result))+2] \n",
    "\n",
    "        if result.count(max(result)) == 1 :\n",
    "            return_num = [result.index(max(result))+1]\n",
    " \n",
    "    return return_num"
   ]
  }
 ],
 "metadata": {
  "kernelspec": {
   "display_name": "Python 3",
   "language": "python",
   "name": "python3"
  },
  "language_info": {
   "codemirror_mode": {
    "name": "ipython",
    "version": 3
   },
   "file_extension": ".py",
   "mimetype": "text/x-python",
   "name": "python",
   "nbconvert_exporter": "python",
   "pygments_lexer": "ipython3",
   "version": "3.10.9"
  },
  "orig_nbformat": 4
 },
 "nbformat": 4,
 "nbformat_minor": 2
}
