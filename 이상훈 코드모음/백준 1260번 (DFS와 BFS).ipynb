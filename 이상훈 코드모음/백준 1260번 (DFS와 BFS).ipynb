{
 "cells": [
  {
   "cell_type": "code",
   "execution_count": 48,
   "metadata": {},
   "outputs": [
    {
     "name": "stdout",
     "output_type": "stream",
     "text": [
      "3 1 2 5 4\n",
      "3 1 4 2 5\n"
     ]
    }
   ],
   "source": [
    "char, road_n, start = map(int, input().split())\n",
    "road = [[] for _ in range(char+1)]\n",
    "visited = []\n",
    "result_d = []\n",
    "result_b = []\n",
    "\n",
    "for i in range(road_n):\n",
    "    a, b = map(int, input().split())\n",
    "    road[b].append(a)\n",
    "    road[a].append(b)\n",
    "\n",
    "for i in range(len(road)-1) :\n",
    "    road[i+1].sort()\n",
    "\n",
    "def dfs(road, start, visited):\n",
    "    visited.append(start)\n",
    "    result_d.append(str(start))\n",
    "    for i in road[start]:\n",
    "        if i not in visited:\n",
    "            dfs(road, i, visited)\n",
    "\n",
    "\n",
    "from collections import deque\n",
    "visited1 = []\n",
    "\n",
    "def bfs(road, start, visited1) :\n",
    "    queue = deque([start])\n",
    "    visited1.append(start)\n",
    "    while queue :\n",
    "        v = queue.popleft()\n",
    "        result_b.append(str(v))\n",
    "        for i in road[v] :\n",
    "            if i not in visited1 :\n",
    "                queue.append(i)\n",
    "                visited1.append(i)\n",
    "                \n",
    "        \n",
    "dfs(road, start, visited)\n",
    "bfs(road, start, visited1)\n",
    "print(' '.join(result_d))\n",
    "print(' '.join(result_b))"
   ]
  }
 ],
 "metadata": {
  "kernelspec": {
   "display_name": "Python 3",
   "language": "python",
   "name": "python3"
  },
  "language_info": {
   "codemirror_mode": {
    "name": "ipython",
    "version": 3
   },
   "file_extension": ".py",
   "mimetype": "text/x-python",
   "name": "python",
   "nbconvert_exporter": "python",
   "pygments_lexer": "ipython3",
   "version": "3.10.9"
  },
  "orig_nbformat": 4
 },
 "nbformat": 4,
 "nbformat_minor": 2
}
