{
 "cells": [
  {
   "cell_type": "code",
   "execution_count": 93,
   "metadata": {},
   "outputs": [
    {
     "name": "stdout",
     "output_type": "stream",
     "text": [
      "2\n"
     ]
    }
   ],
   "source": [
    "start, final = map(str,input().split())\n",
    "final = list(final)\n",
    "cnt = 0\n",
    "while True :\n",
    "    if ''.join(final) == start :\n",
    "        print(cnt +1)\n",
    "        break \n",
    "    else:\n",
    "        num  = final.pop()\n",
    "        if any(num == i for i in ['3','5','7','9']) :\n",
    "            print(-1)\n",
    "            break\n",
    "        else:\n",
    "            if num == '1' :\n",
    "                cnt += 1\n",
    "                if len(final) == 0 :\n",
    "                    print(-1)\n",
    "                    break\n",
    "            if any(num == i for i in ['2','4','6','8','0']) :\n",
    "                final.append(num)\n",
    "                final = list(str(int(''.join(final))//2))\n",
    "                cnt +=1\n",
    "                if len(final) == 0 :\n",
    "                    print(-1)\n",
    "                    break"
   ]
  }
 ],
 "metadata": {
  "kernelspec": {
   "display_name": "Python 3",
   "language": "python",
   "name": "python3"
  },
  "language_info": {
   "codemirror_mode": {
    "name": "ipython",
    "version": 3
   },
   "file_extension": ".py",
   "mimetype": "text/x-python",
   "name": "python",
   "nbconvert_exporter": "python",
   "pygments_lexer": "ipython3",
   "version": "3.10.9"
  },
  "orig_nbformat": 4
 },
 "nbformat": 4,
 "nbformat_minor": 2
}
