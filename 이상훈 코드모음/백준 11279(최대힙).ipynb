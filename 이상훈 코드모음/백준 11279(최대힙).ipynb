{
 "cells": [
  {
   "cell_type": "code",
   "execution_count": 8,
   "metadata": {},
   "outputs": [],
   "source": [
    "from collections import deque\n",
    "import heapq\n",
    "import sys\n",
    "num = int(sys.stdin.readline())\n",
    "heap = []\n",
    "for _ in range(num) :\n",
    "    a=int(sys.stdin.readline())\n",
    "    heapq.heappush(heap,-a)\n",
    "    if a == 0 :\n",
    "        print(-heapq.heappop(heap))"
   ]
  }
 ],
 "metadata": {
  "kernelspec": {
   "display_name": "Python 3",
   "language": "python",
   "name": "python3"
  },
  "language_info": {
   "codemirror_mode": {
    "name": "ipython",
    "version": 3
   },
   "file_extension": ".py",
   "mimetype": "text/x-python",
   "name": "python",
   "nbconvert_exporter": "python",
   "pygments_lexer": "ipython3",
   "version": "3.10.9"
  },
  "orig_nbformat": 4
 },
 "nbformat": 4,
 "nbformat_minor": 2
}
