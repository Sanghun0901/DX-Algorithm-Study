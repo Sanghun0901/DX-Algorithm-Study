{
 "cells": [
  {
   "cell_type": "code",
   "execution_count": null,
   "metadata": {},
   "outputs": [],
   "source": [
    "def solution(progresses, speeds):\n",
    "    check = []\n",
    "    total = []\n",
    "    for i in range(len(progresses)) :\n",
    "        total.append(progresses[i] + speeds[i])\n",
    "    a = len(total)\n",
    "    cnt = 0\n",
    "    while total :\n",
    "        cnt = 0\n",
    "        while total :\n",
    "            if total[0] >= 100 :\n",
    "                cnt+=1\n",
    "                del total[0],progresses[0], speeds[0]\n",
    "                a -=1\n",
    "            else : break\n",
    "        if cnt > 0 :\n",
    "            check.append(cnt)\n",
    "        for i in range(len(total)):\n",
    "            total[i] = total[i] + speeds[i]\n",
    "\n",
    "    return check"
   ]
  }
 ],
 "metadata": {
  "language_info": {
   "name": "python"
  },
  "orig_nbformat": 4
 },
 "nbformat": 4,
 "nbformat_minor": 2
}
