{
 "cells": [
  {
   "cell_type": "code",
   "execution_count": 36,
   "metadata": {},
   "outputs": [],
   "source": [
    "def solution(answer):\n",
    "    check = []\n",
    "    for i in range(len(answer)) :\n",
    "        if i == 0 :\n",
    "            check.append(answer[i])\n",
    "        elif answer[i] != answer[i-1] :\n",
    "            check.append(answer[i])\n",
    "\n",
    "    return check"
   ]
  },
  {
   "cell_type": "code",
   "execution_count": 38,
   "metadata": {},
   "outputs": [],
   "source": [
    "from collections import deque\n",
    "answer = [1,1,3,3,0,1,1]\n",
    "answer = deque(answer)\n",
    "count = len(answer)\n",
    "check = []\n",
    "for i in range(count-1) :\n",
    "    if answer[i] == answer[i+1] :\n",
    "        check.append(i)\n",
    "cnt = 0\n",
    "for i in check :\n",
    "    del answer[i-cnt]\n",
    "    cnt +=1"
   ]
  }
 ],
 "metadata": {
  "kernelspec": {
   "display_name": "Python 3",
   "language": "python",
   "name": "python3"
  },
  "language_info": {
   "codemirror_mode": {
    "name": "ipython",
    "version": 3
   },
   "file_extension": ".py",
   "mimetype": "text/x-python",
   "name": "python",
   "nbconvert_exporter": "python",
   "pygments_lexer": "ipython3",
   "version": "3.10.9"
  },
  "orig_nbformat": 4
 },
 "nbformat": 4,
 "nbformat_minor": 2
}
