{
 "cells": [
  {
   "cell_type": "code",
   "execution_count": 41,
   "metadata": {},
   "outputs": [
    {
     "name": "stdout",
     "output_type": "stream",
     "text": [
      "3\n",
      "10 9 3 1\n"
     ]
    }
   ],
   "source": [
    "num = int(input())\n",
    "nums =[num]\n",
    "dp = [0]*1000001\n",
    "report = ['' for i in range(num+1)]\n",
    "report[1] = '1'\n",
    "\n",
    "\n",
    "if num > 1 :\n",
    "    for i in range(2,num+1) :\n",
    "        dp[i] = dp[i-1] +1\n",
    "        prev = i-1\n",
    "        if i%3 == 0 and dp[i//3]+1 < dp[i]:\n",
    "            dp[i] = min(dp[i],dp[i//3]+1)\n",
    "            prev = i//3          \n",
    "        if i%2 == 0 and dp[i//2]+1 < dp[i]:\n",
    "            dp[i] = min(dp[i],dp[i//2]+1)\n",
    "            prev = i//2\n",
    "        report[i] = str(i) + \" \" + report[prev]\n",
    "print(dp[num])\n",
    "print(report[num])"
   ]
  },
  {
   "cell_type": "code",
   "execution_count": 40,
   "metadata": {},
   "outputs": [
    {
     "data": {
      "text/plain": [
       "3"
      ]
     },
     "execution_count": 40,
     "metadata": {},
     "output_type": "execute_result"
    }
   ],
   "source": [
    "dp[5]"
   ]
  },
  {
   "cell_type": "code",
   "execution_count": 37,
   "metadata": {},
   "outputs": [
    {
     "name": "stdout",
     "output_type": "stream",
     "text": [
      "3\n"
     ]
    }
   ],
   "source": [
    "num = int(input())\n",
    "\n",
    "d = [0] * 1000001\n",
    "d[0] = 0\n",
    "d[1] = 0\n",
    "for i in range(2, num+1) :\n",
    "    d[i] = d[i-1] + 1       \n",
    "    if i%2 == 0:\n",
    "        d[i] = min(d[i//2]+1, d[i])\n",
    "\n",
    "    if i%3==0 :\n",
    "        d[i] = min(d[i//3]+1, d[i])     \n",
    "\n",
    "print(d[num])\n"
   ]
  },
  {
   "cell_type": "code",
   "execution_count": 40,
   "metadata": {},
   "outputs": [
    {
     "name": "stdout",
     "output_type": "stream",
     "text": [
      "4\n",
      "20 10 9 3 1\n"
     ]
    }
   ],
   "source": [
    "\n",
    "\n",
    "N = int(input())\n",
    "mem = [0]*(N+1) # 연산 횟수 메모이제이션\n",
    "path = [\"\" for _ in range(N+1)] # 최단 경로\n",
    "path[1] = \"1\"\n",
    "\n",
    "for idx in range(2, N+1):\n",
    "    mem[idx] = mem[idx-1] + 1\n",
    "    prev = idx-1\n",
    "    if idx % 3 == 0 and mem[idx//3]+1 < mem[idx]:\n",
    "        mem[idx] = mem[idx//3] + 1\n",
    "        prev = idx // 3\n",
    "    if idx % 2 == 0 and mem[idx//2]+1 < mem[idx]:\n",
    "        mem[idx] = mem[idx//2] + 1\n",
    "        prev = idx // 2\n",
    "    path[idx] = str(idx) + \" \" + path[prev]\n",
    "\n",
    "print(mem[N])\n",
    "print(path[N])\n"
   ]
  }
 ],
 "metadata": {
  "kernelspec": {
   "display_name": "Python 3",
   "language": "python",
   "name": "python3"
  },
  "language_info": {
   "codemirror_mode": {
    "name": "ipython",
    "version": 3
   },
   "file_extension": ".py",
   "mimetype": "text/x-python",
   "name": "python",
   "nbconvert_exporter": "python",
   "pygments_lexer": "ipython3",
   "version": "3.10.9"
  },
  "orig_nbformat": 4
 },
 "nbformat": 4,
 "nbformat_minor": 2
}
