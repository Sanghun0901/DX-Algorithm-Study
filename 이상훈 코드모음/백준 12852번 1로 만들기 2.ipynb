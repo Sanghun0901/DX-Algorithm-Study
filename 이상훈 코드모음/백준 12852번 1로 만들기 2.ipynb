{
 "cells": [
  {
   "cell_type": "code",
   "execution_count": 41,
   "metadata": {},
   "outputs": [
    {
     "name": "stdout",
     "output_type": "stream",
     "text": [
      "3\n",
      "10 9 3 1\n"
     ]
    }
   ],
   "source": [
    "num = int(input())\n",
    "nums =[num]\n",
    "dp = [0]*1000001\n",
    "report = ['' for i in range(num+1)]\n",
    "report[1] = '1'\n",
    "\n",
    "\n",
    "if num > 1 :\n",
    "    for i in range(2,num+1) :\n",
    "        dp[i] = dp[i-1] +1\n",
    "        prev = i-1\n",
    "        if i%3 == 0 and dp[i//3]+1 < dp[i]:\n",
    "            dp[i] = min(dp[i],dp[i//3]+1)\n",
    "            prev = i//3          \n",
    "        if i%2 == 0 and dp[i//2]+1 < dp[i]:\n",
    "            dp[i] = min(dp[i],dp[i//2]+1)\n",
    "            prev = i//2\n",
    "        report[i] = str(i) + \" \" + report[prev]\n",
    "print(dp[num])\n",
    "print(report[num])"
   ]
  }
 ],
 "metadata": {
  "kernelspec": {
   "display_name": "Python 3",
   "language": "python",
   "name": "python3"
  },
  "language_info": {
   "codemirror_mode": {
    "name": "ipython",
    "version": 3
   },
   "file_extension": ".py",
   "mimetype": "text/x-python",
   "name": "python",
   "nbconvert_exporter": "python",
   "pygments_lexer": "ipython3",
   "version": "3.10.9"
  },
  "orig_nbformat": 4
 },
 "nbformat": 4,
 "nbformat_minor": 2
}
