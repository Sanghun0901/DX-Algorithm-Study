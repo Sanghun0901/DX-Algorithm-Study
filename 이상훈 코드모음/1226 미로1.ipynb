{
 "cells": [
  {
   "cell_type": "code",
   "execution_count": 4,
   "metadata": {},
   "outputs": [
    {
     "ename": "TypeError",
     "evalue": "'tuple' object is not callable",
     "output_type": "error",
     "traceback": [
      "\u001b[1;31m---------------------------------------------------------------------------\u001b[0m",
      "\u001b[1;31mTypeError\u001b[0m                                 Traceback (most recent call last)",
      "Cell \u001b[1;32mIn[4], line 5\u001b[0m\n\u001b[0;32m      3\u001b[0m \u001b[39mfor\u001b[39;00m t \u001b[39min\u001b[39;00m \u001b[39mrange\u001b[39m(\u001b[39m1\u001b[39m, T\u001b[39m+\u001b[39m\u001b[39m1\u001b[39m):\n\u001b[0;32m      4\u001b[0m     N \u001b[39m=\u001b[39m \u001b[39mint\u001b[39m(\u001b[39minput\u001b[39m())                                           \n\u001b[1;32m----> 5\u001b[0m     arr \u001b[39m=\u001b[39m [\u001b[39mlist\u001b[39m(\u001b[39mmap\u001b[39m(\u001b[39mint\u001b[39m, \u001b[39minput\u001b[39m())) \u001b[39mfor\u001b[39;00m _ \u001b[39min\u001b[39;00m \u001b[39mrange\u001b[39m(N)]     \n\u001b[0;32m      6\u001b[0m     delta \u001b[39m=\u001b[39m [[\u001b[39m-\u001b[39m\u001b[39m1\u001b[39m, \u001b[39m0\u001b[39m], [\u001b[39m1\u001b[39m, \u001b[39m0\u001b[39m], [\u001b[39m0\u001b[39m, \u001b[39m-\u001b[39m\u001b[39m1\u001b[39m], [\u001b[39m0\u001b[39m, \u001b[39m1\u001b[39m]]     \n\u001b[0;32m      7\u001b[0m     visit \u001b[39m=\u001b[39m deque([])\n",
      "Cell \u001b[1;32mIn[4], line 5\u001b[0m, in \u001b[0;36m<listcomp>\u001b[1;34m(.0)\u001b[0m\n\u001b[0;32m      3\u001b[0m \u001b[39mfor\u001b[39;00m t \u001b[39min\u001b[39;00m \u001b[39mrange\u001b[39m(\u001b[39m1\u001b[39m, T\u001b[39m+\u001b[39m\u001b[39m1\u001b[39m):\n\u001b[0;32m      4\u001b[0m     N \u001b[39m=\u001b[39m \u001b[39mint\u001b[39m(\u001b[39minput\u001b[39m())                                           \n\u001b[1;32m----> 5\u001b[0m     arr \u001b[39m=\u001b[39m [\u001b[39mlist\u001b[39m(\u001b[39mmap\u001b[39;49m(\u001b[39mint\u001b[39;49m, \u001b[39minput\u001b[39;49m())) \u001b[39mfor\u001b[39;00m _ \u001b[39min\u001b[39;00m \u001b[39mrange\u001b[39m(N)]     \n\u001b[0;32m      6\u001b[0m     delta \u001b[39m=\u001b[39m [[\u001b[39m-\u001b[39m\u001b[39m1\u001b[39m, \u001b[39m0\u001b[39m], [\u001b[39m1\u001b[39m, \u001b[39m0\u001b[39m], [\u001b[39m0\u001b[39m, \u001b[39m-\u001b[39m\u001b[39m1\u001b[39m], [\u001b[39m0\u001b[39m, \u001b[39m1\u001b[39m]]     \n\u001b[0;32m      7\u001b[0m     visit \u001b[39m=\u001b[39m deque([])\n",
      "\u001b[1;31mTypeError\u001b[0m: 'tuple' object is not callable"
     ]
    }
   ],
   "source": [
    "from collections import deque\n",
    "cnt = 1\n",
    "while cnt < 11:\n",
    "    t = int(input())\n",
    "    N = 16                                         \n",
    "    arr = [list(map(int, input())) for _ in range(N)]     \n",
    "    delta = [[-1, 0], [1, 0], [0, -1], [0, 1]]     \n",
    "    visit = deque([])\n",
    "    stack = deque([])\n",
    "    res = 0\n",
    "    \n",
    "    \n",
    "    for i in range(N):\n",
    "        for j in range(N):                \n",
    "            if arr[i][j] == 2:            \n",
    "                stack.append((i, j))       \n",
    "\n",
    "       \n",
    "    while stack:               \n",
    "        cordinate = stack.popleft()\n",
    "        ix, iy = cordinate[0], cordinate[1]  \n",
    "        for x, y in delta:     \n",
    "            dx = ix + x\n",
    "            dy = iy + y\n",
    "            if 0 <= dx < N and 0 <= dy < N:  \n",
    "                if arr[dx][dy] == 0 and (dx, dy) not in visit:    \n",
    "                    visit.append((dx, dy))\n",
    "                    stack.append((dx, dy))  \n",
    "                elif arr[dx][dy] == 3:\n",
    "                    res = 1   \n",
    "                    break\n",
    "    cnt +=1\n",
    "    print(f'#{t} {res}')\n"
   ]
  }
 ],
 "metadata": {
  "kernelspec": {
   "display_name": "Python 3",
   "language": "python",
   "name": "python3"
  },
  "language_info": {
   "codemirror_mode": {
    "name": "ipython",
    "version": 3
   },
   "file_extension": ".py",
   "mimetype": "text/x-python",
   "name": "python",
   "nbconvert_exporter": "python",
   "pygments_lexer": "ipython3",
   "version": "3.10.9"
  },
  "orig_nbformat": 4
 },
 "nbformat": 4,
 "nbformat_minor": 2
}
